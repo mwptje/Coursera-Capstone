{
 "cells": [
  {
   "cell_type": "markdown",
   "metadata": {},
   "source": [
    "# Segmenting and Clustering Neighbourhoods in Toronto\n",
    "\n",
    "* Start with importing the necessary python libraries"
   ]
  },
  {
   "cell_type": "code",
   "execution_count": 1,
   "metadata": {},
   "outputs": [],
   "source": [
    "import pandas as pd\n",
    "import numpy  as np\n",
    "from bs4 import BeautifulSoup\n",
    "import requests"
   ]
  },
  {
   "cell_type": "markdown",
   "metadata": {},
   "source": [
    "#### Get the table with postal codes for Toronto from the internet\n",
    "* Get the contents of a wikipedia page with Toronto postal codes including their matching boroughs and neighbourhods\n",
    "* Show the response code = 200 = return OK"
   ]
  },
  {
   "cell_type": "code",
   "execution_count": 2,
   "metadata": {},
   "outputs": [
    {
     "data": {
      "text/plain": [
       "<Response [200]>"
      ]
     },
     "execution_count": 2,
     "metadata": {},
     "output_type": "execute_result"
    }
   ],
   "source": [
    "page = requests.get(\"https://en.wikipedia.org/wiki/List_of_postal_codes_of_Canada:_M\")\n",
    "page"
   ]
  },
  {
   "cell_type": "markdown",
   "metadata": {},
   "source": [
    "#### Get the data from the HTML contents\n",
    "* Parse the page contents to get all of the HTML tag elements\n",
    "* To get an idea of what the contents look like you can use\n",
    "```python\n",
    "    dom.prettify\n",
    "```\n",
    "* We have found out that the contents are in the only table in the HTML contents\n",
    "* Just to make sure add the tables class to the find criteria\n",
    "* Then get all the TD elements contaning the data we need"
   ]
  },
  {
   "cell_type": "code",
   "execution_count": 3,
   "metadata": {},
   "outputs": [],
   "source": [
    "# Parse the page contents to get all of the HTML tag elements\n",
    "dom = BeautifulSoup(page.content, 'html.parser')\n",
    "# Get the table containing the data records\n",
    "tab = dom.find('table',class_='wikitable sortable')\n",
    "# within the table get all the TD's containg the data column values\n",
    "tds = tab.find_all('td')"
   ]
  },
  {
   "cell_type": "markdown",
   "metadata": {},
   "source": [
    "#### We are now ready to parse the data en fill the dataframe\n",
    "* Loop through all the TD elements to get the data\n",
    "* Every first element is the postal code (counter mod 3 == 0)\n",
    "* Every second element is the borough (counter mod 3 == 1)\n",
    "* Every third element is the neighbourhood (counter mod 3 == 2)\n",
    "* Append the postal codes, boroughs and neighbourhoods found each to a separate list\n",
    "* Use the lists to create a dataframe to work with"
   ]
  },
  {
   "cell_type": "code",
   "execution_count": 4,
   "metadata": {},
   "outputs": [
    {
     "name": "stdout",
     "output_type": "stream",
     "text": [
      "(289, 3)\n"
     ]
    },
    {
     "data": {
      "text/html": [
       "<div>\n",
       "<style scoped>\n",
       "    .dataframe tbody tr th:only-of-type {\n",
       "        vertical-align: middle;\n",
       "    }\n",
       "\n",
       "    .dataframe tbody tr th {\n",
       "        vertical-align: top;\n",
       "    }\n",
       "\n",
       "    .dataframe thead th {\n",
       "        text-align: right;\n",
       "    }\n",
       "</style>\n",
       "<table border=\"1\" class=\"dataframe\">\n",
       "  <thead>\n",
       "    <tr style=\"text-align: right;\">\n",
       "      <th></th>\n",
       "      <th>postal_code</th>\n",
       "      <th>borough</th>\n",
       "      <th>neighbourhood</th>\n",
       "    </tr>\n",
       "  </thead>\n",
       "  <tbody>\n",
       "    <tr>\n",
       "      <th>0</th>\n",
       "      <td>M1A</td>\n",
       "      <td>Not assigned</td>\n",
       "      <td>Not assigned</td>\n",
       "    </tr>\n",
       "    <tr>\n",
       "      <th>1</th>\n",
       "      <td>M2A</td>\n",
       "      <td>Not assigned</td>\n",
       "      <td>Not assigned</td>\n",
       "    </tr>\n",
       "    <tr>\n",
       "      <th>2</th>\n",
       "      <td>M3A</td>\n",
       "      <td>North York</td>\n",
       "      <td>Parkwoods</td>\n",
       "    </tr>\n",
       "    <tr>\n",
       "      <th>3</th>\n",
       "      <td>M4A</td>\n",
       "      <td>North York</td>\n",
       "      <td>Victoria Village</td>\n",
       "    </tr>\n",
       "    <tr>\n",
       "      <th>4</th>\n",
       "      <td>M5A</td>\n",
       "      <td>Downtown Toronto</td>\n",
       "      <td>Harbourfront</td>\n",
       "    </tr>\n",
       "    <tr>\n",
       "      <th>5</th>\n",
       "      <td>M5A</td>\n",
       "      <td>Downtown Toronto</td>\n",
       "      <td>Regent Park</td>\n",
       "    </tr>\n",
       "  </tbody>\n",
       "</table>\n",
       "</div>"
      ],
      "text/plain": [
       "  postal_code           borough     neighbourhood\n",
       "0         M1A      Not assigned      Not assigned\n",
       "1         M2A      Not assigned      Not assigned\n",
       "2         M3A        North York         Parkwoods\n",
       "3         M4A        North York  Victoria Village\n",
       "4         M5A  Downtown Toronto      Harbourfront\n",
       "5         M5A  Downtown Toronto       Regent Park"
      ]
     },
     "execution_count": 4,
     "metadata": {},
     "output_type": "execute_result"
    }
   ],
   "source": [
    "# get the postal code, borough and neighbourhood from\n",
    "# the table's TD elements text\n",
    "# 1st TD = postal code\n",
    "# 2nd TD = borough\n",
    "# 3rd TD = neighbourhood\n",
    "postal_codes   = []\n",
    "boroughs       = []\n",
    "neighbourhoods = []\n",
    "for i,el in enumerate(tds):\n",
    "    # get the elements text and remove any leading or trailing spaces, new lines\n",
    "    txt = el.get_text().strip()\n",
    "    if i % 3 == 0:\n",
    "        postal_codes.append(txt)\n",
    "    elif i % 3 == 1:\n",
    "        boroughs.append(txt)\n",
    "    elif i % 3 == 2:\n",
    "        neighbourhoods.append(txt)\n",
    "# creaate the dataframe with postal code, borough and neighbourhood\n",
    "df = pd.DataFrame({\n",
    "    \"postal_code\" : postal_codes,\n",
    "    \"borough\" : boroughs,\n",
    "    \"neighbourhood\" : neighbourhoods\n",
    "})\n",
    "# list the rows and columns\n",
    "print(df.shape)\n",
    "# get an idea of what has been created\n",
    "df.head(6)"
   ]
  },
  {
   "cell_type": "markdown",
   "metadata": {},
   "source": [
    "#### Remove any lines where the borough is equal to 'Not assigned'\n",
    "* print the number of rows before and after removing as an additional check"
   ]
  },
  {
   "cell_type": "code",
   "execution_count": 5,
   "metadata": {},
   "outputs": [
    {
     "name": "stdout",
     "output_type": "stream",
     "text": [
      "Shape before removing \"Not asigned\" (289, 3)\n",
      "Shape after removing \"Not asigned\" (212, 3)\n"
     ]
    }
   ],
   "source": [
    "# clean up the table\n",
    "# remove any lines with borough = Not assigned\n",
    "print('Shape before removing \"Not asigned\"',df.shape)\n",
    "df = df[df['borough'] != 'Not assigned']\n",
    "print('Shape after removing \"Not asigned\"',df.shape)"
   ]
  },
  {
   "cell_type": "markdown",
   "metadata": {},
   "source": [
    "* Find out if there are any rows which have a neighbourhood = 'Not assigned'\n",
    "* Then fix this by assigning the borough name to the neighbourhood"
   ]
  },
  {
   "cell_type": "code",
   "execution_count": 6,
   "metadata": {},
   "outputs": [
    {
     "data": {
      "text/html": [
       "<div>\n",
       "<style scoped>\n",
       "    .dataframe tbody tr th:only-of-type {\n",
       "        vertical-align: middle;\n",
       "    }\n",
       "\n",
       "    .dataframe tbody tr th {\n",
       "        vertical-align: top;\n",
       "    }\n",
       "\n",
       "    .dataframe thead th {\n",
       "        text-align: right;\n",
       "    }\n",
       "</style>\n",
       "<table border=\"1\" class=\"dataframe\">\n",
       "  <thead>\n",
       "    <tr style=\"text-align: right;\">\n",
       "      <th></th>\n",
       "      <th>postal_code</th>\n",
       "      <th>borough</th>\n",
       "      <th>neighbourhood</th>\n",
       "    </tr>\n",
       "  </thead>\n",
       "  <tbody>\n",
       "    <tr>\n",
       "      <th>8</th>\n",
       "      <td>M7A</td>\n",
       "      <td>Queen's Park</td>\n",
       "      <td>Not assigned</td>\n",
       "    </tr>\n",
       "  </tbody>\n",
       "</table>\n",
       "</div>"
      ],
      "text/plain": [
       "  postal_code       borough neighbourhood\n",
       "8         M7A  Queen's Park  Not assigned"
      ]
     },
     "execution_count": 6,
     "metadata": {},
     "output_type": "execute_result"
    }
   ],
   "source": [
    "# check which rows have neighbourhood = 'Not assigned'\n",
    "df[df['neighbourhood'] == 'Not assigned']"
   ]
  },
  {
   "cell_type": "code",
   "execution_count": 7,
   "metadata": {},
   "outputs": [],
   "source": [
    "# assign the borough to the neighbourhood id the neighbourhood is 'Not assigned'\n",
    "df['neighbourhood'] = np.where(df['neighbourhood']=='Not assigned', df['borough'], df['neighbourhood'])"
   ]
  },
  {
   "cell_type": "markdown",
   "metadata": {},
   "source": [
    "#### Take care of rows with duplicate postal codes\n",
    "1. Sort the dataframe by postal code and neighbourhood\n",
    "2. Reset the index column afterwards\n",
    "3. Create one dataframe including all duplicate rows based on the postal code column\n",
    "  * We need this dataframe to collect the neighbourhoods by postal code\n",
    "4. Create a second dataframe including the first appearance of duplicat rows based on the postal code column\n",
    "  * We will use this later on to merge with the neighbourhoods collection by postal code\n",
    "5. Create a third datafrme including rows with only unique postal codes\n",
    "  * We will use this later on to merge into to one final dataframe to be used"
   ]
  },
  {
   "cell_type": "code",
   "execution_count": 8,
   "metadata": {},
   "outputs": [],
   "source": [
    "df.sort_values(by=['postal_code','neighbourhood'],inplace=True)\n",
    "df.reset_index(drop=True,inplace=True)\n",
    "# which rows have a duplicate postal code?\n",
    "# one dataframe with all rows that have duplicate postal codes\n",
    "df_dup     = df[df.duplicated(subset='postal_code',keep=False)]\n",
    "# one dataframe with only the first row that has a duplicate postal code\n",
    "df_dup_1st = df[df.duplicated(subset='postal_code',keep='first')]\n",
    "# one dataframe with all rows with unique postal codes\n",
    "df_uni     = df[~df.duplicated(subset='postal_code',keep=False)]"
   ]
  },
  {
   "cell_type": "markdown",
   "metadata": {},
   "source": [
    "#### Create a dictionary to merge all neighbourhoods under one postal code\n",
    "* Loop through all the rows and get the postal code and neighbourhood\n",
    "* Append the neighbourhood as a value to the postal code key record"
   ]
  },
  {
   "cell_type": "code",
   "execution_count": 9,
   "metadata": {},
   "outputs": [],
   "source": [
    "pcd_dict = dict()\n",
    "for i in range(len(df_dup)):\n",
    "    nbh = df_dup['neighbourhood'].values[i] \n",
    "    pcd = df_dup['postal_code'].values[i]\n",
    "    # add or append to the dictionary key values\n",
    "    pcd_dict.setdefault(pcd, []).append(nbh)"
   ]
  },
  {
   "cell_type": "markdown",
   "metadata": {},
   "source": [
    "* do some checks on row counts of each dataframe"
   ]
  },
  {
   "cell_type": "code",
   "execution_count": 10,
   "metadata": {},
   "outputs": [
    {
     "name": "stdout",
     "output_type": "stream",
     "text": [
      "Row count orignal dataframe:  212\n",
      "Row count dataframe with unique postal codes:  45\n",
      "Row count dataframe with all rows with duplicate postal codes:  167\n",
      "Row count with the first row of rows with duplicate postal codes:  109\n"
     ]
    }
   ],
   "source": [
    "# some count checks just to make sure\n",
    "print('Row count orignal dataframe: ',len(df))\n",
    "print('Row count dataframe with unique postal codes: ',len(df_uni))\n",
    "print('Row count dataframe with all rows with duplicate postal codes: ',len(df_dup))\n",
    "print('Row count with the first row of rows with duplicate postal codes: ',len(df_dup_1st))"
   ]
  },
  {
   "cell_type": "markdown",
   "metadata": {},
   "source": [
    "#### Merge the dataframe with duplicate rows containing the first record with the dictionary\n",
    "* Loop at the rows of the dataframe and get the postal code for each row\n",
    "* Set the neighbourhood column to the dictionary value (= list of neighbourhoods wit the same postal code)\n",
    "  * This is a string with all the neighbourhood names joined by a ', '"
   ]
  },
  {
   "cell_type": "code",
   "execution_count": 11,
   "metadata": {},
   "outputs": [],
   "source": [
    "# replace the neighbourhood column with the dictionary values\n",
    "for i in range(len(df_dup_1st)):\n",
    "    pcd = df_dup_1st['postal_code'].values[i]\n",
    "    df_dup_1st['neighbourhood'].values[i] = ', '.join(pcd_dict[pcd])"
   ]
  },
  {
   "cell_type": "markdown",
   "metadata": {},
   "source": [
    "#### Merge the dataframe with the unique postal codes with the dataframe containing the duplicate rows"
   ]
  },
  {
   "cell_type": "code",
   "execution_count": 12,
   "metadata": {},
   "outputs": [
    {
     "data": {
      "text/plain": [
       "(154, 3)"
      ]
     },
     "execution_count": 12,
     "metadata": {},
     "output_type": "execute_result"
    }
   ],
   "source": [
    "df_new = pd.concat([df_uni, df_dup_1st],ignore_index=True)\n",
    "df_new.shape"
   ]
  },
  {
   "cell_type": "markdown",
   "metadata": {},
   "source": [
    "#### Remove any rows with duplicate records"
   ]
  },
  {
   "cell_type": "code",
   "execution_count": 13,
   "metadata": {},
   "outputs": [],
   "source": [
    "# remove duplicate lines based on the postal code column\n",
    "df_new.drop_duplicates(subset='postal_code',inplace=True)"
   ]
  },
  {
   "cell_type": "markdown",
   "metadata": {},
   "source": [
    "* The final dataframe should only have the number of row as there are unique postal codes"
   ]
  },
  {
   "cell_type": "code",
   "execution_count": 14,
   "metadata": {},
   "outputs": [
    {
     "name": "stdout",
     "output_type": "stream",
     "text": [
      "Numer of unique postal codes:  103\n",
      "Rows and columns of the dataframe:  (103, 3)\n"
     ]
    }
   ],
   "source": [
    "# do a check on the number of unique postal codes compared with the number of rows\n",
    "# in the dataframe\n",
    "print('Numer of unique postal codes: ',len(df_new['postal_code'].unique()))\n",
    "print('Rows and columns of the dataframe: ', df_new.shape)"
   ]
  },
  {
   "cell_type": "code",
   "execution_count": 15,
   "metadata": {},
   "outputs": [
    {
     "data": {
      "text/html": [
       "<div>\n",
       "<style scoped>\n",
       "    .dataframe tbody tr th:only-of-type {\n",
       "        vertical-align: middle;\n",
       "    }\n",
       "\n",
       "    .dataframe tbody tr th {\n",
       "        vertical-align: top;\n",
       "    }\n",
       "\n",
       "    .dataframe thead th {\n",
       "        text-align: right;\n",
       "    }\n",
       "</style>\n",
       "<table border=\"1\" class=\"dataframe\">\n",
       "  <thead>\n",
       "    <tr style=\"text-align: right;\">\n",
       "      <th></th>\n",
       "      <th>postal_code</th>\n",
       "      <th>borough</th>\n",
       "      <th>neighbourhood</th>\n",
       "    </tr>\n",
       "  </thead>\n",
       "  <tbody>\n",
       "    <tr>\n",
       "      <th>136</th>\n",
       "      <td>M9B</td>\n",
       "      <td>Etobicoke</td>\n",
       "      <td>Cloverdale, Islington, Martin Grove, Princess ...</td>\n",
       "    </tr>\n",
       "    <tr>\n",
       "      <th>140</th>\n",
       "      <td>M9C</td>\n",
       "      <td>Etobicoke</td>\n",
       "      <td>Bloordale Gardens, Eringate, Markland Wood, Ol...</td>\n",
       "    </tr>\n",
       "    <tr>\n",
       "      <th>143</th>\n",
       "      <td>M9M</td>\n",
       "      <td>North York</td>\n",
       "      <td>Emery, Humberlea</td>\n",
       "    </tr>\n",
       "    <tr>\n",
       "      <th>144</th>\n",
       "      <td>M9R</td>\n",
       "      <td>Etobicoke</td>\n",
       "      <td>Kingsview Village, Martin Grove Gardens, Richv...</td>\n",
       "    </tr>\n",
       "    <tr>\n",
       "      <th>147</th>\n",
       "      <td>M9V</td>\n",
       "      <td>Etobicoke</td>\n",
       "      <td>Albion Gardens, Beaumond Heights, Humbergate, ...</td>\n",
       "    </tr>\n",
       "  </tbody>\n",
       "</table>\n",
       "</div>"
      ],
      "text/plain": [
       "    postal_code     borough                                      neighbourhood\n",
       "136         M9B   Etobicoke  Cloverdale, Islington, Martin Grove, Princess ...\n",
       "140         M9C   Etobicoke  Bloordale Gardens, Eringate, Markland Wood, Ol...\n",
       "143         M9M  North York                                   Emery, Humberlea\n",
       "144         M9R   Etobicoke  Kingsview Village, Martin Grove Gardens, Richv...\n",
       "147         M9V   Etobicoke  Albion Gardens, Beaumond Heights, Humbergate, ..."
      ]
     },
     "execution_count": 15,
     "metadata": {},
     "output_type": "execute_result"
    }
   ],
   "source": [
    "df_new.tail()"
   ]
  },
  {
   "cell_type": "code",
   "execution_count": 16,
   "metadata": {},
   "outputs": [
    {
     "data": {
      "text/plain": [
       "(103, 3)"
      ]
     },
     "execution_count": 16,
     "metadata": {},
     "output_type": "execute_result"
    }
   ],
   "source": [
    "df_new.shape"
   ]
  }
 ],
 "metadata": {
  "kernelspec": {
   "display_name": "Python 3",
   "language": "python",
   "name": "python3"
  },
  "language_info": {
   "codemirror_mode": {
    "name": "ipython",
    "version": 3
   },
   "file_extension": ".py",
   "mimetype": "text/x-python",
   "name": "python",
   "nbconvert_exporter": "python",
   "pygments_lexer": "ipython3",
   "version": "3.7.0"
  }
 },
 "nbformat": 4,
 "nbformat_minor": 2
}
